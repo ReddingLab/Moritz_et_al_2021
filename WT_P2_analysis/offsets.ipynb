{
 "cells": [
  {
   "cell_type": "code",
   "execution_count": 1,
   "metadata": {
    "jupyter": {
     "source_hidden": true
    }
   },
   "outputs": [],
   "source": [
    "import numpy as np\n",
    "import matplotlib.pyplot as plt\n",
    "from matplotlib import gridspec\n",
    "import pickle\n",
    "from collections import OrderedDict\n",
    "\n",
    "from scipy.optimize import curve_fit\n",
    "\n",
    "def straight_line(x,m,b):\n",
    "    return(m*x+b)"
   ]
  },
  {
   "cell_type": "code",
   "execution_count": 2,
   "metadata": {
    "jupyter": {
     "source_hidden": true
    }
   },
   "outputs": [],
   "source": [
    "#####################\n",
    "## Compaction data ##\n",
    "#####################\n",
    "\n",
    "p2_200_1 = pickle.load(open(\"p2_200nm_fc1s1_compact.p\", \"rb\")) \n",
    "p2_200_2 = pickle.load(open(\"p2_200nm_fc1s2_compact.p\", \"rb\"))\n",
    "p2_200_3 = pickle.load(open(\"p2_200nm_fc2s1_compact.p\", \"rb\")) \n",
    "p2_200_4 = pickle.load(open(\"p2_200nm_fc2s2_compact.p\", \"rb\"))\n",
    "\n",
    "p2_225_1 = pickle.load(open(\"p2_225nm_fc1s1_compact.p\", \"rb\")) \n",
    "p2_225_2 = pickle.load(open(\"p2_225nm_fc1s2_compact.p\", \"rb\"))\n",
    "p2_225_3 = pickle.load(open(\"p2_225nm_fc2s1_compact.p\", \"rb\")) \n",
    "p2_225_4 = pickle.load(open(\"p2_225nm_fc2s2_compact.p\", \"rb\"))\n",
    "\n",
    "p2_250_1 = pickle.load(open(\"p2_250nm_fc1s1_compact.p\", \"rb\")) \n",
    "p2_250_2 = pickle.load(open(\"p2_250nm_fc1s2_compact.p\", \"rb\"))\n",
    "p2_250_3 = pickle.load(open(\"p2_250nm_fc2s1_compact.p\", \"rb\")) \n",
    "p2_250_4 = pickle.load(open(\"p2_250nm_fc2s2_compact.p\", \"rb\"))\n",
    "\n",
    "p2_275_1 = pickle.load(open(\"p2_275nm_fc1s1_compact.p\", \"rb\")) \n",
    "p2_275_2 = pickle.load(open(\"p2_275nm_fc1s2_compact.p\", \"rb\"))\n",
    "p2_275_3 = pickle.load(open(\"p2_275nm_fc2s1_compact.p\", \"rb\")) \n",
    "p2_275_4 = pickle.load(open(\"p2_275nm_fc2s2_compact.p\", \"rb\"))"
   ]
  },
  {
   "cell_type": "code",
   "execution_count": 3,
   "metadata": {
    "jupyter": {
     "source_hidden": true
    }
   },
   "outputs": [
    {
     "data": {
      "image/png": "[encoded data removed]",
      "text/plain": [
       "<Figure size 864x360 with 2 Axes>"
      ]
     },
     "metadata": {
      "needs_background": "light"
     },
     "output_type": "display_data"
    },
    {
     "name": "stdout",
     "output_type": "stream",
     "text": [
      "onset_1:  21.40\n",
      "onset_2:  32.60\n"
     ]
    }
   ],
   "source": [
    "D = OrderedDict()\n",
    "count = 0\n",
    "y_offsets = []\n",
    "for dataset,velo in [p2_200_1,p2_200_2]:\n",
    "    for trace in dataset:\n",
    "        count+=1\n",
    "        x,y = trace\n",
    "        offset = np.mean(y[0:15])\n",
    "        y_offsets.append(offset)\n",
    "        new_y = [(offset-i)*.266 for i in y]\n",
    "        new_x = [i*0.1 for i in x]\n",
    "        for t,p in zip(new_x,new_y):\n",
    "            D.setdefault(t, []).append(p)\n",
    "            \n",
    "Averaged = sorted([(t,np.mean(p)) for t, p in D.items()], key=lambda x: x[0])\n",
    "errors = sorted([(t,np.std(p)) for t, p in D.items()], key=lambda x: x[0])\n",
    "t,a = map(list, zip(*Averaged))\n",
    "_,s = map(list, zip(*errors))\n",
    "\n",
    "onset_1 = 21.4\n",
    "\n",
    "fig = plt.figure(figsize = (12,5))\n",
    "ax1 = fig.add_subplot(211)\n",
    "ax1.axvline(x=onset_1,color = \"red\", linewidth = 2)\n",
    "ax1.errorbar(t,a, yerr = s, \n",
    "             marker = \"o\", linestyle = \"None\", \n",
    "             errorevery=5, color = \"k\") \n",
    "ax1.set_ylim(-2,16)\n",
    "\n",
    "D = OrderedDict()\n",
    "count = 0\n",
    "y_offsets = []\n",
    "for dataset,velo in [p2_200_3,p2_200_4]:\n",
    "    for trace in dataset:\n",
    "        count+=1\n",
    "        x,y = trace\n",
    "        offset = np.mean(y[0:15])\n",
    "        y_offsets.append(offset)\n",
    "        new_y = [(offset-i)*.266 for i in y]\n",
    "        new_x = [i*0.1 for i in x]\n",
    "        for t,p in zip(new_x,new_y):\n",
    "            D.setdefault(t, []).append(p)\n",
    "            \n",
    "Averaged = sorted([(t,np.mean(p)) for t, p in D.items()], key=lambda x: x[0])\n",
    "errors = sorted([(t,np.std(p)) for t, p in D.items()], key=lambda x: x[0])\n",
    "t,a = map(list, zip(*Averaged))\n",
    "_,s = map(list, zip(*errors))\n",
    "\n",
    "onset_2 = 32.6\n",
    "\n",
    "ax1 = fig.add_subplot(212)\n",
    "ax1.axvline(x=onset_2,color = \"red\", linewidth = 2)\n",
    "ax1.errorbar(t,a, yerr = s, \n",
    "             marker = \"o\", linestyle = \"None\", \n",
    "             errorevery=5, color = \"k\") \n",
    "ax1.set_ylim(-2,16)\n",
    "\n",
    "plt.show()\n",
    "\n",
    "print(\"onset_1: \",\"{:.2f}\".format(onset_1))\n",
    "print(\"onset_2: \",\"{:.2f}\".format(onset_2))"
   ]
  },
  {
   "cell_type": "code",
   "execution_count": 4,
   "metadata": {
    "jupyter": {
     "source_hidden": true
    }
   },
   "outputs": [
    {
     "data": {
      "image/png": "[encoded data removed]",
      "text/plain": [
       "<Figure size 864x360 with 2 Axes>"
      ]
     },
     "metadata": {
      "needs_background": "light"
     },
     "output_type": "display_data"
    },
    {
     "name": "stdout",
     "output_type": "stream",
     "text": [
      "onset_1:  23.10\n",
      "onset_2:  22.00\n"
     ]
    }
   ],
   "source": [
    "D = OrderedDict()\n",
    "count = 0\n",
    "y_offsets = []\n",
    "for dataset,velo in [p2_225_1,p2_225_2]:\n",
    "    for trace in dataset:\n",
    "        count+=1\n",
    "        x,y = trace\n",
    "        offset = np.mean(y[0:15])\n",
    "        y_offsets.append(offset)\n",
    "        new_y = [(offset-i)*.266 for i in y]\n",
    "        new_x = [i*0.1 for i in x]\n",
    "        for t,p in zip(new_x,new_y):\n",
    "            D.setdefault(t, []).append(p)\n",
    "            \n",
    "Averaged = sorted([(t,np.mean(p)) for t, p in D.items()], key=lambda x: x[0])\n",
    "errors = sorted([(t,np.std(p)) for t, p in D.items()], key=lambda x: x[0])\n",
    "t,a = map(list, zip(*Averaged))\n",
    "_,s = map(list, zip(*errors))\n",
    "\n",
    "onset_1 = 23.1\n",
    "\n",
    "fig = plt.figure(figsize = (12,5))\n",
    "ax1 = fig.add_subplot(211)\n",
    "ax1.axvline(x=onset_1,color = \"red\", linewidth = 2)\n",
    "ax1.errorbar(t,a, yerr = s, \n",
    "             marker = \"o\", linestyle = \"None\", \n",
    "             errorevery=5, color = \"k\") \n",
    "ax1.set_ylim(-2,16)\n",
    "ax1.set_xlim(onset_1-10,onset_1+10)\n",
    "\n",
    "D = OrderedDict()\n",
    "count = 0\n",
    "y_offsets = []\n",
    "for dataset,velo in [p2_225_3,p2_225_4]:\n",
    "    for trace in dataset:\n",
    "        count+=1\n",
    "        x,y = trace\n",
    "        offset = np.mean(y[0:15])\n",
    "        y_offsets.append(offset)\n",
    "        new_y = [(offset-i)*.266 for i in y]\n",
    "        new_x = [i*0.1 for i in x]\n",
    "        for t,p in zip(new_x,new_y):\n",
    "            D.setdefault(t, []).append(p)\n",
    "            \n",
    "Averaged = sorted([(t,np.mean(p)) for t, p in D.items()], key=lambda x: x[0])\n",
    "errors = sorted([(t,np.std(p)) for t, p in D.items()], key=lambda x: x[0])\n",
    "t,a = map(list, zip(*Averaged))\n",
    "_,s = map(list, zip(*errors))\n",
    "\n",
    "onset_2 = 22.\n",
    "\n",
    "ax1 = fig.add_subplot(212)\n",
    "ax1.axvline(x=onset_2,color = \"red\", linewidth = 2)\n",
    "ax1.errorbar(t,a, yerr = s, \n",
    "             marker = \"o\", linestyle = \"None\", \n",
    "             errorevery=5, color = \"k\") \n",
    "ax1.set_ylim(-2,16)\n",
    "ax1.set_xlim(onset_2-10,onset_2+10)\n",
    "\n",
    "plt.show()\n",
    "\n",
    "print(\"onset_1: \",\"{:.2f}\".format(onset_1))\n",
    "print(\"onset_2: \",\"{:.2f}\".format(onset_2))\n"
   ]
  },
  {
   "cell_type": "code",
   "execution_count": 5,
   "metadata": {
    "jupyter": {
     "source_hidden": true
    }
   },
   "outputs": [
    {
     "data": {
      "image/png": "[encoded data removed]",
      "text/plain": [
       "<Figure size 864x360 with 2 Axes>"
      ]
     },
     "metadata": {
      "needs_background": "light"
     },
     "output_type": "display_data"
    },
    {
     "name": "stdout",
     "output_type": "stream",
     "text": [
      "onset_1:  17.50\n",
      "onset_2:  23.70\n"
     ]
    }
   ],
   "source": [
    "D = OrderedDict()\n",
    "count = 0\n",
    "y_offsets = []\n",
    "for dataset,velo in [p2_250_1,p2_250_2]:\n",
    "    for trace in dataset:\n",
    "        count+=1\n",
    "        x,y = trace\n",
    "        offset = np.mean(y[0:15])\n",
    "        y_offsets.append(offset)\n",
    "        new_y = [(offset-i)*.266 for i in y]\n",
    "        new_x = [i*0.1 for i in x]\n",
    "        for t,p in zip(new_x,new_y):\n",
    "            D.setdefault(t, []).append(p)\n",
    "            \n",
    "Averaged = sorted([(t,np.mean(p)) for t, p in D.items()], key=lambda x: x[0])\n",
    "errors = sorted([(t,np.std(p)) for t, p in D.items()], key=lambda x: x[0])\n",
    "t,a = map(list, zip(*Averaged))\n",
    "_,s = map(list, zip(*errors))\n",
    "\n",
    "onset_1 = 17.5\n",
    "\n",
    "fig = plt.figure(figsize = (12,5))\n",
    "ax1 = fig.add_subplot(211)\n",
    "ax1.axvline(x=onset_1,color = \"red\", linewidth = 2)\n",
    "ax1.errorbar(t,a, yerr = s, \n",
    "             marker = \"o\", linestyle = \"None\", \n",
    "             errorevery=5, color = \"k\") \n",
    "ax1.set_ylim(-2,16)\n",
    "ax1.set_xlim(onset_1-10,onset_1+10)\n",
    "\n",
    "D = OrderedDict()\n",
    "count = 0\n",
    "y_offsets = []\n",
    "for dataset,velo in [p2_250_3,p2_250_4]:\n",
    "    for trace in dataset:\n",
    "        count+=1\n",
    "        x,y = trace\n",
    "        offset = np.mean(y[0:15])\n",
    "        y_offsets.append(offset)\n",
    "        new_y = [(offset-i)*.266 for i in y]\n",
    "        new_x = [i*0.1 for i in x]\n",
    "        for t,p in zip(new_x,new_y):\n",
    "            D.setdefault(t, []).append(p)\n",
    "            \n",
    "Averaged = sorted([(t,np.mean(p)) for t, p in D.items()], key=lambda x: x[0])\n",
    "errors = sorted([(t,np.std(p)) for t, p in D.items()], key=lambda x: x[0])\n",
    "t,a = map(list, zip(*Averaged))\n",
    "_,s = map(list, zip(*errors))\n",
    "\n",
    "onset_2 = 23.7\n",
    "\n",
    "ax1 = fig.add_subplot(212)\n",
    "ax1.axvline(x=onset_2,color = \"red\", linewidth = 2)\n",
    "ax1.errorbar(t,a, yerr = s, \n",
    "             marker = \"o\", linestyle = \"None\", \n",
    "             errorevery=5, color = \"k\") \n",
    "ax1.set_ylim(-2,16)\n",
    "ax1.set_xlim(onset_2-10,onset_2+10)\n",
    "\n",
    "plt.show()\n",
    "\n",
    "print(\"onset_1: \",\"{:.2f}\".format(onset_1))\n",
    "print(\"onset_2: \",\"{:.2f}\".format(onset_2))\n"
   ]
  },
  {
   "cell_type": "code",
   "execution_count": 6,
   "metadata": {
    "jupyter": {
     "source_hidden": true
    }
   },
   "outputs": [
    {
     "data": {
      "image/png": "[encoded data removed]",
      "text/plain": [
       "<Figure size 864x360 with 2 Axes>"
      ]
     },
     "metadata": {
      "needs_background": "light"
     },
     "output_type": "display_data"
    },
    {
     "name": "stdout",
     "output_type": "stream",
     "text": [
      "onset_1:  20.70\n",
      "onset_2:  20.70\n"
     ]
    }
   ],
   "source": [
    "D = OrderedDict()\n",
    "count = 0\n",
    "y_offsets = []\n",
    "for dataset,velo in [p2_275_1,p2_275_2]:\n",
    "    for trace in dataset:\n",
    "        count+=1\n",
    "        x,y = trace\n",
    "        offset = np.mean(y[0:15])\n",
    "        y_offsets.append(offset)\n",
    "        new_y = [(offset-i)*.266 for i in y]\n",
    "        new_x = [i*0.1 for i in x]\n",
    "        for t,p in zip(new_x,new_y):\n",
    "            D.setdefault(t, []).append(p)\n",
    "            \n",
    "Averaged = sorted([(t,np.mean(p)) for t, p in D.items()], key=lambda x: x[0])\n",
    "errors = sorted([(t,np.std(p)) for t, p in D.items()], key=lambda x: x[0])\n",
    "t,a = map(list, zip(*Averaged))\n",
    "_,s = map(list, zip(*errors))\n",
    "\n",
    "onset_1 = 20.7\n",
    "\n",
    "fig = plt.figure(figsize = (12,5))\n",
    "ax1 = fig.add_subplot(211)\n",
    "ax1.axvline(x=onset_1,color = \"red\", linewidth = 2)\n",
    "ax1.errorbar(t,a, yerr = s, \n",
    "             marker = \"o\", linestyle = \"None\", \n",
    "             errorevery=5, color = \"k\") \n",
    "ax1.set_ylim(-2,16)\n",
    "ax1.set_xlim(onset_1-10,onset_1+10)\n",
    "\n",
    "D = OrderedDict()\n",
    "count = 0\n",
    "y_offsets = []\n",
    "for dataset,velo in [p2_275_3,p2_275_4]:\n",
    "    for trace in dataset:\n",
    "        count+=1\n",
    "        x,y = trace\n",
    "        offset = np.mean(y[0:15])\n",
    "        y_offsets.append(offset)\n",
    "        new_y = [(offset-i)*.266 for i in y]\n",
    "        new_x = [i*0.1 for i in x]\n",
    "        for t,p in zip(new_x,new_y):\n",
    "            D.setdefault(t, []).append(p)\n",
    "            \n",
    "Averaged = sorted([(t,np.mean(p)) for t, p in D.items()], key=lambda x: x[0])\n",
    "errors = sorted([(t,np.std(p)) for t, p in D.items()], key=lambda x: x[0])\n",
    "t,a = map(list, zip(*Averaged))\n",
    "_,s = map(list, zip(*errors))\n",
    "\n",
    "onset_2 = 20.7\n",
    "\n",
    "ax1 = fig.add_subplot(212)\n",
    "ax1.axvline(x=onset_2,color = \"red\", linewidth = 2)\n",
    "ax1.errorbar(t,a, yerr = s, \n",
    "             marker = \"o\", linestyle = \"None\", \n",
    "             errorevery=5, color = \"k\") \n",
    "ax1.set_ylim(-2,16)\n",
    "ax1.set_xlim(onset_2-10,onset_2+10)\n",
    "\n",
    "plt.show()\n",
    "\n",
    "\n",
    "print(\"onset_1: \",\"{:.2f}\".format(onset_1))\n",
    "print(\"onset_2: \",\"{:.2f}\".format(onset_2))\n"
   ]
  },
  {
   "cell_type": "code",
   "execution_count": null,
   "metadata": {},
   "outputs": [],
   "source": []
  }
 ],
 "metadata": {
  "kernelspec": {
   "display_name": "Python 3",
   "language": "python",
   "name": "python3"
  },
  "language_info": {
   "codemirror_mode": {
    "name": "ipython",
    "version": 3
   },
   "file_extension": ".py",
   "mimetype": "text/x-python",
   "name": "python",
   "nbconvert_exporter": "python",
   "pygments_lexer": "ipython3",
   "version": "3.7.4"
  }
 },
 "nbformat": 4,
 "nbformat_minor": 4
}
