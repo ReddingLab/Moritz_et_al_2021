{
 "cells": [
  {
   "cell_type": "code",
   "execution_count": 1,
   "metadata": {},
   "outputs": [],
   "source": [
    "import numpy as np\n",
    "import matplotlib.pyplot as plt\n",
    "from matplotlib import gridspec\n",
    "import pickle\n",
    "from collections import OrderedDict\n",
    "\n",
    "from scipy.optimize import curve_fit\n",
    "\n",
    "def straight_line(x,m,b):\n",
    "    return(m*x+b)"
   ]
  },
  {
   "cell_type": "code",
   "execution_count": 2,
   "metadata": {
    "jupyter": {
     "source_hidden": true
    }
   },
   "outputs": [],
   "source": [
    "#####################\n",
    "## Compaction data ##\n",
    "#####################\n",
    "\n",
    "p2_150_1 = pickle.load(open(\"p2_K49A_150nm_fc1s1_compact.p\", \"rb\")) \n",
    "p2_150_2 = pickle.load(open(\"p2_K49A_150nm_fc1s2_compact.p\", \"rb\")) \n",
    "p2_150_3 = pickle.load(open(\"p2_K49A_150nm_fc2s1_compact.p\", \"rb\")) \n",
    "p2_150_4 = pickle.load(open(\"p2_K49A_150nm_fc2s2_compact.p\", \"rb\")) \n",
    "\n",
    "p2_175_1 = pickle.load(open(\"p2_K49A_175nm_fc1s1_compact.p\", \"rb\")) \n",
    "p2_175_2 = pickle.load(open(\"p2_K49A_175nm_fc1s2_compact.p\", \"rb\")) \n",
    "p2_175_3 = pickle.load(open(\"p2_K49A_175nm_fc2s1_compact.p\", \"rb\")) \n",
    "p2_175_4 = pickle.load(open(\"p2_K49A_175nm_fc2s2_compact.p\", \"rb\"))\n",
    "\n",
    "p2_200_1 = pickle.load(open(\"p2_K49A_200nm_fc1s1_compact.p\", \"rb\")) \n",
    "p2_200_2 = pickle.load(open(\"p2_K49A_200nm_fc1s2_compact.p\", \"rb\")) \n",
    "p2_200_3 = pickle.load(open(\"p2_K49A_200nm_fc2s1_compact.p\", \"rb\")) \n",
    "p2_200_4 = pickle.load(open(\"p2_K49A_200nm_fc2s2_compact.p\", \"rb\"))\n",
    "\n",
    "p2_225_1 = pickle.load(open(\"p2_K49A_225nm_fc1s1_compact.p\", \"rb\")) \n",
    "p2_225_2 = pickle.load(open(\"p2_K49A_225nm_fc1s2_compact.p\", \"rb\")) \n",
    "p2_225_3 = pickle.load(open(\"p2_K49A_225nm_fc2s1_compact.p\", \"rb\")) \n",
    "p2_225_4 = pickle.load(open(\"p2_K49A_225nm_fc2s2_compact.p\", \"rb\"))\n",
    "\n",
    "p2_250_1 = pickle.load(open(\"p2_K49A_250nm_fc1s1_compact.p\", \"rb\")) \n",
    "p2_250_2 = pickle.load(open(\"p2_K49A_250nm_fc1s2_compact.p\", \"rb\")) \n",
    "p2_250_3 = pickle.load(open(\"p2_K49A_250nm_fc2s1_compact.p\", \"rb\")) \n",
    "p2_250_4 = pickle.load(open(\"p2_K49A_250nm_fc2s2_compact.p\", \"rb\"))\n",
    "p2_250_5 = pickle.load(open(\"p2_K49A_250nm_fc3s1_compact.p\", \"rb\")) \n",
    "p2_250_6 = pickle.load(open(\"p2_K49A_250nm_fc3s2_compact.p\", \"rb\"))\n",
    "\n"
   ]
  },
  {
   "cell_type": "code",
   "execution_count": 5,
   "metadata": {
    "jupyter": {
     "source_hidden": true
    }
   },
   "outputs": [
    {
     "data": {
      "image/png": "[encoded data removed]",
      "text/plain": [
       "<Figure size 864x360 with 2 Axes>"
      ]
     },
     "metadata": {
      "needs_background": "light"
     },
     "output_type": "display_data"
    },
    {
     "name": "stdout",
     "output_type": "stream",
     "text": [
      "onset_1:  21.00\n",
      "onset_2:  22.60\n"
     ]
    }
   ],
   "source": [
    "D = OrderedDict()\n",
    "count = 0\n",
    "y_offsets = []\n",
    "for dataset,velo in [p2_150_1,p2_150_2]:\n",
    "    for trace in dataset:\n",
    "        count+=1\n",
    "        x,y = trace\n",
    "        offset = np.mean(y[0:15])\n",
    "        y_offsets.append(offset)\n",
    "        new_y = [(offset-i)*.266 for i in y]\n",
    "        new_x = [i*0.1 for i in x]\n",
    "        for t,p in zip(new_x,new_y):\n",
    "            D.setdefault(t, []).append(p)\n",
    "            \n",
    "Averaged = sorted([(t,np.mean(p)) for t, p in D.items()], key=lambda x: x[0])\n",
    "errors = sorted([(t,np.std(p)) for t, p in D.items()], key=lambda x: x[0])\n",
    "t,a = map(list, zip(*Averaged))\n",
    "_,s = map(list, zip(*errors))\n",
    "\n",
    "onset_1 = 21.\n",
    "\n",
    "fig = plt.figure(figsize = (12,5))\n",
    "ax1 = fig.add_subplot(211)\n",
    "ax1.axvline(x=onset_1,color = \"red\", linewidth = 2)\n",
    "ax1.errorbar(t,a, yerr = s, \n",
    "             marker = \"o\", linestyle = \"None\", \n",
    "             errorevery=5, color = \"k\") \n",
    "ax1.set_ylim(-2,16)\n",
    "\n",
    "D = OrderedDict()\n",
    "count = 0\n",
    "y_offsets = []\n",
    "for dataset,velo in [p2_150_3,p2_150_4]:\n",
    "    for trace in dataset:\n",
    "        count+=1\n",
    "        x,y = trace\n",
    "        offset = np.mean(y[0:15])\n",
    "        y_offsets.append(offset)\n",
    "        new_y = [(offset-i)*.266 for i in y]\n",
    "        new_x = [i*0.1 for i in x]\n",
    "        for t,p in zip(new_x,new_y):\n",
    "            D.setdefault(t, []).append(p)\n",
    "            \n",
    "Averaged = sorted([(t,np.mean(p)) for t, p in D.items()], key=lambda x: x[0])\n",
    "errors = sorted([(t,np.std(p)) for t, p in D.items()], key=lambda x: x[0])\n",
    "t,a = map(list, zip(*Averaged))\n",
    "_,s = map(list, zip(*errors))\n",
    "\n",
    "onset_2 = 22.6\n",
    "\n",
    "ax1 = fig.add_subplot(212)\n",
    "ax1.axvline(x=onset_2,color = \"red\", linewidth = 2)\n",
    "ax1.errorbar(t,a, yerr = s, \n",
    "             marker = \"o\", linestyle = \"None\", \n",
    "             errorevery=5, color = \"k\") \n",
    "ax1.set_ylim(-2,16)\n",
    "\n",
    "plt.show()\n",
    "\n",
    "print(\"onset_1: \",\"{:.2f}\".format(onset_1))\n",
    "print(\"onset_2: \",\"{:.2f}\".format(onset_2))"
   ]
  },
  {
   "cell_type": "code",
   "execution_count": 9,
   "metadata": {
    "jupyter": {
     "source_hidden": true
    }
   },
   "outputs": [
    {
     "data": {
      "image/png": "[encoded data removed]",
      "text/plain": [
       "<Figure size 864x360 with 2 Axes>"
      ]
     },
     "metadata": {
      "needs_background": "light"
     },
     "output_type": "display_data"
    },
    {
     "name": "stdout",
     "output_type": "stream",
     "text": [
      "onset_1:  21.10\n",
      "onset_2:  25.50\n"
     ]
    }
   ],
   "source": [
    "D = OrderedDict()\n",
    "count = 0\n",
    "y_offsets = []\n",
    "for dataset,velo in [p2_175_1,p2_175_2]:\n",
    "    for trace in dataset:\n",
    "        count+=1\n",
    "        x,y = trace\n",
    "        offset = np.mean(y[0:15])\n",
    "        y_offsets.append(offset)\n",
    "        new_y = [(offset-i)*.266 for i in y]\n",
    "        new_x = [i*0.1 for i in x]\n",
    "        for t,p in zip(new_x,new_y):\n",
    "            D.setdefault(t, []).append(p)\n",
    "            \n",
    "Averaged = sorted([(t,np.mean(p)) for t, p in D.items()], key=lambda x: x[0])\n",
    "errors = sorted([(t,np.std(p)) for t, p in D.items()], key=lambda x: x[0])\n",
    "t,a = map(list, zip(*Averaged))\n",
    "_,s = map(list, zip(*errors))\n",
    "\n",
    "onset_1 = 21.1\n",
    "\n",
    "fig = plt.figure(figsize = (12,5))\n",
    "ax1 = fig.add_subplot(211)\n",
    "ax1.axvline(x=onset_1,color = \"red\", linewidth = 2)\n",
    "ax1.errorbar(t,a, yerr = s, \n",
    "             marker = \"o\", linestyle = \"None\", \n",
    "             errorevery=5, color = \"k\") \n",
    "ax1.set_ylim(-2,16)\n",
    "ax1.set_xlim(onset_1-10,onset_1+10)\n",
    "\n",
    "D = OrderedDict()\n",
    "count = 0\n",
    "y_offsets = []\n",
    "for dataset,velo in [p2_175_3,p2_175_4]:\n",
    "    for trace in dataset:\n",
    "        count+=1\n",
    "        x,y = trace\n",
    "        offset = np.mean(y[0:15])\n",
    "        y_offsets.append(offset)\n",
    "        new_y = [(offset-i)*.266 for i in y]\n",
    "        new_x = [i*0.1 for i in x]\n",
    "        for t,p in zip(new_x,new_y):\n",
    "            D.setdefault(t, []).append(p)\n",
    "            \n",
    "Averaged = sorted([(t,np.mean(p)) for t, p in D.items()], key=lambda x: x[0])\n",
    "errors = sorted([(t,np.std(p)) for t, p in D.items()], key=lambda x: x[0])\n",
    "t,a = map(list, zip(*Averaged))\n",
    "_,s = map(list, zip(*errors))\n",
    "\n",
    "onset_2 = 25.5\n",
    "\n",
    "ax1 = fig.add_subplot(212)\n",
    "ax1.axvline(x=onset_2,color = \"red\", linewidth = 2)\n",
    "ax1.errorbar(t,a, yerr = s, \n",
    "             marker = \"o\", linestyle = \"None\", \n",
    "             errorevery=5, color = \"k\") \n",
    "ax1.set_ylim(-2,16)\n",
    "ax1.set_xlim(onset_2-10,onset_2+10)\n",
    "\n",
    "plt.show()\n",
    "\n",
    "print(\"onset_1: \",\"{:.2f}\".format(onset_1))\n",
    "print(\"onset_2: \",\"{:.2f}\".format(onset_2))\n"
   ]
  },
  {
   "cell_type": "code",
   "execution_count": 12,
   "metadata": {
    "jupyter": {
     "source_hidden": true
    }
   },
   "outputs": [
    {
     "data": {
      "image/png": "[encoded data removed]",
      "text/plain": [
       "<Figure size 864x360 with 2 Axes>"
      ]
     },
     "metadata": {
      "needs_background": "light"
     },
     "output_type": "display_data"
    },
    {
     "name": "stdout",
     "output_type": "stream",
     "text": [
      "onset_1:  20.50\n",
      "onset_2:  22.50\n"
     ]
    }
   ],
   "source": [
    "D = OrderedDict()\n",
    "count = 0\n",
    "y_offsets = []\n",
    "for dataset,velo in [p2_200_1,p2_200_2]:\n",
    "    for trace in dataset:\n",
    "        count+=1\n",
    "        x,y = trace\n",
    "        offset = np.mean(y[0:15])\n",
    "        y_offsets.append(offset)\n",
    "        new_y = [(offset-i)*.266 for i in y]\n",
    "        new_x = [i*0.1 for i in x]\n",
    "        for t,p in zip(new_x,new_y):\n",
    "            D.setdefault(t, []).append(p)\n",
    "            \n",
    "Averaged = sorted([(t,np.mean(p)) for t, p in D.items()], key=lambda x: x[0])\n",
    "errors = sorted([(t,np.std(p)) for t, p in D.items()], key=lambda x: x[0])\n",
    "t,a = map(list, zip(*Averaged))\n",
    "_,s = map(list, zip(*errors))\n",
    "\n",
    "onset_1 = 20.5\n",
    "\n",
    "fig = plt.figure(figsize = (12,5))\n",
    "ax1 = fig.add_subplot(211)\n",
    "ax1.axvline(x=onset_1,color = \"red\", linewidth = 2)\n",
    "ax1.errorbar(t,a, yerr = s, \n",
    "             marker = \"o\", linestyle = \"None\", \n",
    "             errorevery=5, color = \"k\") \n",
    "ax1.set_ylim(-2,16)\n",
    "ax1.set_xlim(onset_1-10,onset_1+10)\n",
    "\n",
    "D = OrderedDict()\n",
    "count = 0\n",
    "y_offsets = []\n",
    "for dataset,velo in [p2_200_3,p2_200_4]:\n",
    "    for trace in dataset:\n",
    "        count+=1\n",
    "        x,y = trace\n",
    "        offset = np.mean(y[0:15])\n",
    "        y_offsets.append(offset)\n",
    "        new_y = [(offset-i)*.266 for i in y]\n",
    "        new_x = [i*0.1 for i in x]\n",
    "        for t,p in zip(new_x,new_y):\n",
    "            D.setdefault(t, []).append(p)\n",
    "            \n",
    "Averaged = sorted([(t,np.mean(p)) for t, p in D.items()], key=lambda x: x[0])\n",
    "errors = sorted([(t,np.std(p)) for t, p in D.items()], key=lambda x: x[0])\n",
    "t,a = map(list, zip(*Averaged))\n",
    "_,s = map(list, zip(*errors))\n",
    "\n",
    "onset_2 = 22.5\n",
    "\n",
    "ax1 = fig.add_subplot(212)\n",
    "ax1.axvline(x=onset_2,color = \"red\", linewidth = 2)\n",
    "ax1.errorbar(t,a, yerr = s, \n",
    "             marker = \"o\", linestyle = \"None\", \n",
    "             errorevery=5, color = \"k\") \n",
    "ax1.set_ylim(-2,16)\n",
    "ax1.set_xlim(onset_2-10,onset_2+10)\n",
    "\n",
    "plt.show()\n",
    "\n",
    "print(\"onset_1: \",\"{:.2f}\".format(onset_1))\n",
    "print(\"onset_2: \",\"{:.2f}\".format(onset_2))\n"
   ]
  },
  {
   "cell_type": "code",
   "execution_count": 17,
   "metadata": {
    "jupyter": {
     "source_hidden": true
    }
   },
   "outputs": [
    {
     "data": {
      "image/png": "[encoded data removed]",
      "text/plain": [
       "<Figure size 864x360 with 2 Axes>"
      ]
     },
     "metadata": {
      "needs_background": "light"
     },
     "output_type": "display_data"
    },
    {
     "name": "stdout",
     "output_type": "stream",
     "text": [
      "onset_1:  24.00\n",
      "onset_2:  22.10\n"
     ]
    }
   ],
   "source": [
    "D = OrderedDict()\n",
    "count = 0\n",
    "y_offsets = []\n",
    "for dataset,velo in [p2_225_1,p2_225_2]:\n",
    "    for trace in dataset:\n",
    "        count+=1\n",
    "        x,y = trace\n",
    "        offset = np.mean(y[0:15])\n",
    "        y_offsets.append(offset)\n",
    "        new_y = [(offset-i)*.266 for i in y]\n",
    "        new_x = [i*0.1 for i in x]\n",
    "        for t,p in zip(new_x,new_y):\n",
    "            D.setdefault(t, []).append(p)\n",
    "            \n",
    "Averaged = sorted([(t,np.mean(p)) for t, p in D.items()], key=lambda x: x[0])\n",
    "errors = sorted([(t,np.std(p)) for t, p in D.items()], key=lambda x: x[0])\n",
    "t,a = map(list, zip(*Averaged))\n",
    "_,s = map(list, zip(*errors))\n",
    "\n",
    "onset_1 = 24.\n",
    "\n",
    "fig = plt.figure(figsize = (12,5))\n",
    "ax1 = fig.add_subplot(211)\n",
    "ax1.axvline(x=onset_1,color = \"red\", linewidth = 2)\n",
    "ax1.errorbar(t,a, yerr = s, \n",
    "             marker = \"o\", linestyle = \"None\", \n",
    "             errorevery=5, color = \"k\") \n",
    "ax1.set_ylim(-2,16)\n",
    "ax1.set_xlim(onset_1-10,onset_1+10)\n",
    "\n",
    "D = OrderedDict()\n",
    "count = 0\n",
    "y_offsets = []\n",
    "for dataset,velo in [p2_225_3,p2_225_4]:\n",
    "    for trace in dataset:\n",
    "        count+=1\n",
    "        x,y = trace\n",
    "        offset = np.mean(y[0:15])\n",
    "        y_offsets.append(offset)\n",
    "        new_y = [(offset-i)*.266 for i in y]\n",
    "        new_x = [i*0.1 for i in x]\n",
    "        for t,p in zip(new_x,new_y):\n",
    "            D.setdefault(t, []).append(p)\n",
    "            \n",
    "Averaged = sorted([(t,np.mean(p)) for t, p in D.items()], key=lambda x: x[0])\n",
    "errors = sorted([(t,np.std(p)) for t, p in D.items()], key=lambda x: x[0])\n",
    "t,a = map(list, zip(*Averaged))\n",
    "_,s = map(list, zip(*errors))\n",
    "\n",
    "onset_2 = 22.1\n",
    "\n",
    "ax1 = fig.add_subplot(212)\n",
    "ax1.axvline(x=onset_2,color = \"red\", linewidth = 2)\n",
    "ax1.errorbar(t,a, yerr = s, \n",
    "             marker = \"o\", linestyle = \"None\", \n",
    "             errorevery=5, color = \"k\") \n",
    "ax1.set_ylim(-2,16)\n",
    "ax1.set_xlim(onset_2-10,onset_2+10)\n",
    "\n",
    "plt.show()\n",
    "\n",
    "\n",
    "print(\"onset_1: \",\"{:.2f}\".format(onset_1))\n",
    "print(\"onset_2: \",\"{:.2f}\".format(onset_2))\n"
   ]
  },
  {
   "cell_type": "code",
   "execution_count": 23,
   "metadata": {},
   "outputs": [
    {
     "data": {
      "image/png": "[encoded data removed]",
      "text/plain": [
       "<Figure size 864x360 with 3 Axes>"
      ]
     },
     "metadata": {
      "needs_background": "light"
     },
     "output_type": "display_data"
    },
    {
     "name": "stdout",
     "output_type": "stream",
     "text": [
      "onset_1:  21.00\n",
      "onset_2:  22.60\n",
      "onset_3:  22.10\n"
     ]
    }
   ],
   "source": [
    "D = OrderedDict()\n",
    "count = 0\n",
    "y_offsets = []\n",
    "for dataset,velo in [p2_250_1,p2_250_2]:\n",
    "    for trace in dataset:\n",
    "        count+=1\n",
    "        x,y = trace\n",
    "        offset = np.mean(y[0:15])\n",
    "        y_offsets.append(offset)\n",
    "        new_y = [(offset-i)*.266 for i in y]\n",
    "        new_x = [i*0.1 for i in x]\n",
    "        for t,p in zip(new_x,new_y):\n",
    "            D.setdefault(t, []).append(p)\n",
    "            \n",
    "Averaged = sorted([(t,np.mean(p)) for t, p in D.items()], key=lambda x: x[0])\n",
    "errors = sorted([(t,np.std(p)) for t, p in D.items()], key=lambda x: x[0])\n",
    "t,a = map(list, zip(*Averaged))\n",
    "_,s = map(list, zip(*errors))\n",
    "\n",
    "onset_1 = 21.\n",
    "\n",
    "fig = plt.figure(figsize = (12,5))\n",
    "ax1 = fig.add_subplot(311)\n",
    "ax1.axvline(x=onset_1,color = \"red\", linewidth = 2)\n",
    "ax1.errorbar(t,a, yerr = s, \n",
    "             marker = \"o\", linestyle = \"None\", \n",
    "             errorevery=5, color = \"k\") \n",
    "ax1.set_ylim(-2,16)\n",
    "ax1.set_xlim(onset_1-10,onset_1+10)\n",
    "\n",
    "D = OrderedDict()\n",
    "count = 0\n",
    "y_offsets = []\n",
    "for dataset,velo in [p2_250_3,p2_250_4]:\n",
    "    for trace in dataset:\n",
    "        count+=1\n",
    "        x,y = trace\n",
    "        offset = np.mean(y[0:15])\n",
    "        y_offsets.append(offset)\n",
    "        new_y = [(offset-i)*.266 for i in y]\n",
    "        new_x = [i*0.1 for i in x]\n",
    "        for t,p in zip(new_x,new_y):\n",
    "            D.setdefault(t, []).append(p)\n",
    "            \n",
    "Averaged = sorted([(t,np.mean(p)) for t, p in D.items()], key=lambda x: x[0])\n",
    "errors = sorted([(t,np.std(p)) for t, p in D.items()], key=lambda x: x[0])\n",
    "t,a = map(list, zip(*Averaged))\n",
    "_,s = map(list, zip(*errors))\n",
    "\n",
    "onset_2 = 22.6\n",
    "\n",
    "ax1 = fig.add_subplot(312)\n",
    "ax1.axvline(x=onset_2,color = \"red\", linewidth = 2)\n",
    "ax1.errorbar(t,a, yerr = s, \n",
    "             marker = \"o\", linestyle = \"None\", \n",
    "             errorevery=5, color = \"k\") \n",
    "ax1.set_ylim(-2,16)\n",
    "ax1.set_xlim(onset_2-10,onset_2+10)\n",
    "\n",
    "D = OrderedDict()\n",
    "count = 0\n",
    "y_offsets = []\n",
    "for dataset,velo in [p2_250_5,p2_250_6]:\n",
    "    for trace in dataset:\n",
    "        count+=1\n",
    "        x,y = trace\n",
    "        offset = np.mean(y[0:15])\n",
    "        y_offsets.append(offset)\n",
    "        new_y = [(offset-i)*.266 for i in y]\n",
    "        new_x = [i*0.1 for i in x]\n",
    "        for t,p in zip(new_x,new_y):\n",
    "            D.setdefault(t, []).append(p)\n",
    "            \n",
    "Averaged = sorted([(t,np.mean(p)) for t, p in D.items()], key=lambda x: x[0])\n",
    "errors = sorted([(t,np.std(p)) for t, p in D.items()], key=lambda x: x[0])\n",
    "t,a = map(list, zip(*Averaged))\n",
    "_,s = map(list, zip(*errors))\n",
    "\n",
    "onset_3 = 22.1\n",
    "\n",
    "ax1 = fig.add_subplot(313)\n",
    "ax1.axvline(x=onset_3,color = \"red\", linewidth = 2)\n",
    "ax1.errorbar(t,a, yerr = s, \n",
    "             marker = \"o\", linestyle = \"None\", \n",
    "             errorevery=5, color = \"k\") \n",
    "ax1.set_ylim(-2,16)\n",
    "ax1.set_xlim(onset_3-10,onset_3+10)\n",
    "\n",
    "plt.show()\n",
    "\n",
    "\n",
    "print(\"onset_1: \",\"{:.2f}\".format(onset_1))\n",
    "print(\"onset_2: \",\"{:.2f}\".format(onset_2))\n",
    "print(\"onset_3: \",\"{:.2f}\".format(onset_3))\n"
   ]
  },
  {
   "cell_type": "code",
   "execution_count": null,
   "metadata": {},
   "outputs": [],
   "source": []
  }
 ],
 "metadata": {
  "kernelspec": {
   "display_name": "Python 3",
   "language": "python",
   "name": "python3"
  },
  "language_info": {
   "codemirror_mode": {
    "name": "ipython",
    "version": 3
   },
   "file_extension": ".py",
   "mimetype": "text/x-python",
   "name": "python",
   "nbconvert_exporter": "python",
   "pygments_lexer": "ipython3",
   "version": "3.7.4"
  }
 },
 "nbformat": 4,
 "nbformat_minor": 4
}
